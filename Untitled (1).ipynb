{
 "cells": [
  {
   "cell_type": "markdown",
   "id": "4184a6f9-a5b1-4318-af58-fcb48d277481",
   "metadata": {},
   "source": [
    "ANS1"
   ]
  },
  {
   "cell_type": "code",
   "execution_count": 1,
   "id": "11541f6a-bc05-4e41-8542-b05ccecf1645",
   "metadata": {},
   "outputs": [
    {
     "data": {
      "text/plain": [
       "\"1. read_csv: Used to read a CSV file and convert it to a pandas DataFrame.\\n\\n\\nimport pandas as pd\\n\\n\\n\\ndf = pd.read_csv('file.csv')\\n\\n\\nprint(df.head())\\n2. dropna: Used to remove missing values from a DataFrame.\\n\\nimport pandas as pd\\n\\n\\ndf = pd.DataFrame({'A': [1, 2, None, 4], 'B': [None, 6, 7, 8]})\\n\\n\\ndf = df.dropna()\\n\\n\\nprint(df)\\n3. groupby: Used to group a DataFrame by one or more columns.\\n\\nimport pandas as pd\\n\\n\\ndf = pd.DataFrame({'A': ['foo', 'bar', 'foo', 'bar', 'foo', 'bar', 'foo', 'foo'],\\n                   'B': ['one', 'one', 'two', 'three', 'two', 'two', 'one', 'three'],\\n                   'C': [1, 2, 3, 4, 5, 6, 7, 8]})\\n\\n\\ngrouped = df.groupby('A')['C'].mean()\\n\\n\\nprint(grouped)\\n4. merge: Used to join two DataFrames together based on a common column.\\n\\nimport pandas as pd\\n\\n\\ndf1 = pd.DataFrame({'key': ['foo', 'bar', 'baz', 'qux'], 'value': [1, 2, 3, 4]})\\ndf2 = pd.DataFrame({'key': ['foo', 'bar', 'qux', 'quux'], 'value': [5, 6, 7, 8]})\\n\\n\\nmerged = pd.merge(df1, df2, on='key')\\n\\n\\nprint(merged)\\n5. pivot_table: Used to create a pivot table from a DataFrame.\\n\\nimport pandas as pd\\n\\n\\ndf = pd.DataFrame({'A': ['foo', 'bar', 'foo', 'bar', 'foo', 'bar', 'foo', 'foo'],\\n                   'B': ['one', 'one', 'two', 'three', 'two', 'two', 'one', 'three'],\\n                   'C': [1, 2, 3, 4, 5, 6, 7, 8]})\\n\\n\\npivot_table = df.pivot_table(values='C', index='A', columns='B', aggfunc='sum')\\n\\n\\nprint(pivot_table)\""
      ]
     },
     "execution_count": 1,
     "metadata": {},
     "output_type": "execute_result"
    }
   ],
   "source": [
    "\"\"\"1. read_csv: Used to read a CSV file and convert it to a pandas DataFrame.\n",
    "\n",
    "\n",
    "import pandas as pd\n",
    "\n",
    "\n",
    "\n",
    "df = pd.read_csv('file.csv')\n",
    "\n",
    "\n",
    "print(df.head())\n",
    "2. dropna: Used to remove missing values from a DataFrame.\n",
    "\n",
    "import pandas as pd\n",
    "\n",
    "\n",
    "df = pd.DataFrame({'A': [1, 2, None, 4], 'B': [None, 6, 7, 8]})\n",
    "\n",
    "\n",
    "df = df.dropna()\n",
    "\n",
    "\n",
    "print(df)\n",
    "3. groupby: Used to group a DataFrame by one or more columns.\n",
    "\n",
    "import pandas as pd\n",
    "\n",
    "\n",
    "df = pd.DataFrame({'A': ['foo', 'bar', 'foo', 'bar', 'foo', 'bar', 'foo', 'foo'],\n",
    "                   'B': ['one', 'one', 'two', 'three', 'two', 'two', 'one', 'three'],\n",
    "                   'C': [1, 2, 3, 4, 5, 6, 7, 8]})\n",
    "\n",
    "\n",
    "grouped = df.groupby('A')['C'].mean()\n",
    "\n",
    "\n",
    "print(grouped)\n",
    "4. merge: Used to join two DataFrames together based on a common column.\n",
    "\n",
    "import pandas as pd\n",
    "\n",
    "\n",
    "df1 = pd.DataFrame({'key': ['foo', 'bar', 'baz', 'qux'], 'value': [1, 2, 3, 4]})\n",
    "df2 = pd.DataFrame({'key': ['foo', 'bar', 'qux', 'quux'], 'value': [5, 6, 7, 8]})\n",
    "\n",
    "\n",
    "merged = pd.merge(df1, df2, on='key')\n",
    "\n",
    "\n",
    "print(merged)\n",
    "5. pivot_table: Used to create a pivot table from a DataFrame.\n",
    "\n",
    "import pandas as pd\n",
    "\n",
    "\n",
    "df = pd.DataFrame({'A': ['foo', 'bar', 'foo', 'bar', 'foo', 'bar', 'foo', 'foo'],\n",
    "                   'B': ['one', 'one', 'two', 'three', 'two', 'two', 'one', 'three'],\n",
    "                   'C': [1, 2, 3, 4, 5, 6, 7, 8]})\n",
    "\n",
    "\n",
    "pivot_table = df.pivot_table(values='C', index='A', columns='B', aggfunc='sum')\n",
    "\n",
    "\n",
    "print(pivot_table)\"\"\""
   ]
  },
  {
   "cell_type": "markdown",
   "id": "6823db66-13ad-4278-ab6e-7983a6e992e7",
   "metadata": {},
   "source": [
    "ANS2 "
   ]
  },
  {
   "cell_type": "markdown",
   "id": "769faa17-3f44-4291-b90f-66adc0d94d5d",
   "metadata": {},
   "source": [
    "\"\"\"import pandas as pd\n",
    "\n",
    "def reindex_df(df):\n",
    "   \n",
    "    num_rows = df.shape[0]\n",
    "    \n",
    "  \n",
    "    new_index = pd.RangeIndex(start=1, stop=num_rows*2, step=2)\n",
    "    \n",
    "\n",
    "    df = df.reindex(new_index)\n",
    "    \n",
    "  \n",
    "    return df\"\"\""
   ]
  },
  {
   "cell_type": "markdown",
   "id": "939de6a3-3b2b-4115-a848-b7410a40db63",
   "metadata": {},
   "source": [
    "ANS3"
   ]
  },
  {
   "cell_type": "code",
   "execution_count": 18,
   "id": "3298e92d-acc5-4e57-8cda-8aa73b57ac90",
   "metadata": {},
   "outputs": [
    {
     "data": {
      "text/plain": [
       "\"import pandas as pd\\ndef calculate_sum(df):\\n    \\n    values = df['Values'].head(3)\\n    sum_of_values = values.sum()\\n    print(sum_of_values)\\n    \\n\\n    \\n    \\n    \\n    \\n    \\n    \\n    \\n    \\n    \\n\\n    \\n    \\ndf  = {'Values':[10,20,30,40,50,60]}\\ncalculate_sum(df)\""
      ]
     },
     "execution_count": 18,
     "metadata": {},
     "output_type": "execute_result"
    }
   ],
   "source": [
    "\"\"\"import pandas as pd\n",
    "def calculate_sum(df):\n",
    "    \n",
    "    values = df['Values'].head(3)\n",
    "    sum_of_values = values.sum()\n",
    "    print(sum_of_values)\n",
    "    \n",
    "\n",
    "    \n",
    "    \n",
    "    \n",
    "    \n",
    "    \n",
    "    \n",
    "    \n",
    "    \n",
    "    \n",
    "\n",
    "    \n",
    "    \n",
    "df  = {'Values':[10,20,30,40,50,60]}\n",
    "calculate_sum(df)\"\"\""
   ]
  },
  {
   "cell_type": "markdown",
   "id": "8d345847-d71d-4c63-831c-64fd00be3368",
   "metadata": {},
   "source": [
    "ANS4"
   ]
  },
  {
   "cell_type": "code",
   "execution_count": 1,
   "id": "aefb3b9c-b81f-49cd-914f-b876aef32704",
   "metadata": {},
   "outputs": [
    {
     "data": {
      "text/plain": [
       "' import pandas as pd\\n\\ndef add_word_count(df):\\n   \\n    words = df[\\'Text\\'].str.split()\\n    \\n   \\n    word_count = words.str.len()\\n    \\n  \\n    df[\\'Word_Count\\'] = word_count\\n    \\n  \\n    return df\\n    \\n    df  = {\\'Text\\':[\"deepu\",\"krish\",\"arjun\",\"komal\",\"govind\"]}\\ncalculate_sum(df)\\n '"
      ]
     },
     "execution_count": 1,
     "metadata": {},
     "output_type": "execute_result"
    }
   ],
   "source": [
    "\"\"\" import pandas as pd\n",
    "\n",
    "def add_word_count(df):\n",
    "   \n",
    "    words = df['Text'].str.split()\n",
    "    \n",
    "   \n",
    "    word_count = words.str.len()\n",
    "    \n",
    "  \n",
    "    df['Word_Count'] = word_count\n",
    "    \n",
    "  \n",
    "    return df\n",
    "    \n",
    "    df  = {'Text':[\"deepu\",\"krish\",\"arjun\",\"komal\",\"govind\"]}\n",
    "calculate_sum(df)\n",
    " \"\"\""
   ]
  },
  {
   "cell_type": "markdown",
   "id": "437d5786-a869-4a1b-88e1-42211c87e27f",
   "metadata": {},
   "source": [
    "ANS5"
   ]
  },
  {
   "cell_type": "code",
   "execution_count": 4,
   "id": "81ee8c07-edbc-40a3-824a-3c55d9ea381a",
   "metadata": {},
   "outputs": [
    {
     "data": {
      "text/plain": [
       "\"##Dataframe returns the number of elemnets availble into the dataframe \\n\\nimport pandas as pd\\ndf  = {'name':['deepak','krish','komal','prince','arjun'],\\n      'add':[12,3,4,45,67],\\n      'phone':[54879875,54789658,25368542,54856985,54789636]}\\ndata = pd.DataFrame(df)\\nprint(data)\\ndf.size\\n\\n\\n\\nDataframe.shape:- the dataframe.shape method returns the number of rows and number of columns availble in to the dataframe\\n\\nimport pandas as pd\\ndf  = {'name':['deepak','krish','komal','prince','arjun'],\\n      'add':[12,3,4,45,67],\\n      'phone':[54879875,54789658,25368542,54856985,54789636]}\\ndata = pd.DataFrame(df)\\nprint(data)\\ndf.shape\""
      ]
     },
     "execution_count": 4,
     "metadata": {},
     "output_type": "execute_result"
    }
   ],
   "source": [
    "\"\"\"##Dataframe returns the number of elemnets availble into the dataframe \n",
    "\n",
    "import pandas as pd\n",
    "df  = {'name':['deepak','krish','komal','prince','arjun'],\n",
    "      'add':[12,3,4,45,67],\n",
    "      'phone':[54879875,54789658,25368542,54856985,54789636]}\n",
    "data = pd.DataFrame(df)\n",
    "print(data)\n",
    "df.size\n",
    "\n",
    "\n",
    "\n",
    "Dataframe.shape:- the dataframe.shape method returns the number of rows and number of columns availble in to the dataframe\n",
    "\n",
    "import pandas as pd\n",
    "df  = {'name':['deepak','krish','komal','prince','arjun'],\n",
    "      'add':[12,3,4,45,67],\n",
    "      'phone':[54879875,54789658,25368542,54856985,54789636]}\n",
    "data = pd.DataFrame(df)\n",
    "print(data)\n",
    "df.shape\"\"\"\n"
   ]
  },
  {
   "cell_type": "markdown",
   "id": "a40c44ca-0f4d-4c62-95e3-e00b17b9e7b7",
   "metadata": {},
   "source": [
    "ANS6"
   ]
  },
  {
   "cell_type": "code",
   "execution_count": 6,
   "id": "4ebffc24-1732-407d-a11c-435ddaf49a78",
   "metadata": {},
   "outputs": [
    {
     "data": {
      "text/plain": [
       "\"To read the excel file in python we ude the pandas function (read_excle) to read the excel file\\n\\nimport pandas as pd \\n\\nfile  = pd.read_excel('excel.xlsx')\\nprint(file)\""
      ]
     },
     "execution_count": 6,
     "metadata": {},
     "output_type": "execute_result"
    }
   ],
   "source": [
    "\"\"\"To read the excel file in python we ude the pandas function (read_excle) to read the excel file\n",
    "\n",
    "import pandas as pd \n",
    "\n",
    "file  = pd.read_excel('excel.xlsx')\n",
    "print(file)\"\"\""
   ]
  },
  {
   "cell_type": "markdown",
   "id": "53b06494-78a4-4337-9bb5-8b39acfd895a",
   "metadata": {},
   "source": [
    "ANS7"
   ]
  },
  {
   "cell_type": "code",
   "execution_count": 7,
   "id": "fba2968f-a78e-474c-afa2-f51a15659908",
   "metadata": {},
   "outputs": [
    {
     "data": {
      "text/plain": [
       "\"import pandas as pd\\n\\ndef extract_username(df):\\n   \\n    split_email = df['Email'].str.split('@', expand=True)\\n    \\n    \\n    df['Username'] = split_email[0]\\n    \\n  \\n    return df\\n    \\n    \\n    \\ndf  = {'email':['deepakthakur0466@gmail.com','ramthakur0466@gmail.com','krishnayak@gmail.com']}\\nextract_username(df)\\n\""
      ]
     },
     "execution_count": 7,
     "metadata": {},
     "output_type": "execute_result"
    }
   ],
   "source": [
    "\"\"\"import pandas as pd\n",
    "\n",
    "def extract_username(df):\n",
    "   \n",
    "    split_email = df['Email'].str.split('@', expand=True)\n",
    "    \n",
    "    \n",
    "    df['Username'] = split_email[0]\n",
    "    \n",
    "  \n",
    "    return df\n",
    "    \n",
    "    \n",
    "    \n",
    "df  = {'email':['deepakthakur0466@gmail.com','ramthakur0466@gmail.com','krishnayak@gmail.com']}\n",
    "extract_username(df)\n",
    "\"\"\""
   ]
  },
  {
   "cell_type": "markdown",
   "id": "2a41eeb9-350c-444f-a4c4-43868a39c031",
   "metadata": {},
   "source": [
    "ANS8"
   ]
  },
  {
   "cell_type": "code",
   "execution_count": 8,
   "id": "d81c1819-1dbf-4fd8-b205-0c51a4111c26",
   "metadata": {},
   "outputs": [
    {
     "data": {
      "text/plain": [
       "\"import pandas as pd\\n\\ndata  = {'A':[3,8,6,9,2],\\n        'B':[5,2,9,3,1],\\n        'C':[1,7,4,5,2]}\\n\\ndf = pd.DataFrame(data)\\nreturn_val(df)\\n\\n\\ndef return_val(df):\\n    \\n    df[(df['A'] > 5) & (df['B'] <10)]\\n    \""
      ]
     },
     "execution_count": 8,
     "metadata": {},
     "output_type": "execute_result"
    }
   ],
   "source": [
    "\"\"\"import pandas as pd\n",
    "\n",
    "data  = {'A':[3,8,6,9,2],\n",
    "        'B':[5,2,9,3,1],\n",
    "        'C':[1,7,4,5,2]}\n",
    "\n",
    "df = pd.DataFrame(data)\n",
    "return_val(df)\n",
    "\n",
    "\n",
    "def return_val(df):\n",
    "    \n",
    "    df[(df['A'] > 5) & (df['B'] <10)]\n",
    "    \"\"\""
   ]
  },
  {
   "cell_type": "code",
   "execution_count": null,
   "id": "0c72f421-a921-40df-b67d-9fca717d7274",
   "metadata": {},
   "outputs": [],
   "source": []
  }
 ],
 "metadata": {
  "kernelspec": {
   "display_name": "Python 3 (ipykernel)",
   "language": "python",
   "name": "python3"
  },
  "language_info": {
   "codemirror_mode": {
    "name": "ipython",
    "version": 3
   },
   "file_extension": ".py",
   "mimetype": "text/x-python",
   "name": "python",
   "nbconvert_exporter": "python",
   "pygments_lexer": "ipython3",
   "version": "3.10.8"
  }
 },
 "nbformat": 4,
 "nbformat_minor": 5
}
