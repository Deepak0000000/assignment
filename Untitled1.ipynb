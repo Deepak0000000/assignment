{
 "cells": [
  {
   "cell_type": "markdown",
   "id": "231ed49b",
   "metadata": {},
   "source": [
    "ANS1"
   ]
  },
  {
   "cell_type": "code",
   "execution_count": 19,
   "id": "bcbab9b0",
   "metadata": {},
   "outputs": [
    {
     "data": {
      "text/plain": [
       "'A Probability density function (PDF) is a mathematical function that describes the relative likelihood of a random variable taking on a particular value. In other words, it provides a continuous description of the probability distribution of a random variable.\\n\\nThe PDF of a continuous random variable is a function that integrates to 1 over the entire range of possible values that the variable can take. It can be graphed as a curve, where the area under the curve represents the probability of the random variable taking on values within a certain interval.\\n\\nThe PDF is often used in statistical analysis and modeling, as it allows for the calculation of various statistics, such as mean and variance, and can be used to make predictions about future events.'"
      ]
     },
     "execution_count": 19,
     "metadata": {},
     "output_type": "execute_result"
    }
   ],
   "source": [
    "\"\"\"A Probability density function (PDF) is a mathematical function that describes the relative likelihood of a random variable taking on a particular value. In other words, it provides a continuous description of the probability distribution of a random variable.\n",
    "\n",
    "The PDF of a continuous random variable is a function that integrates to 1 over the entire range of possible values that the variable can take. It can be graphed as a curve, where the area under the curve represents the probability of the random variable taking on values within a certain interval.\n",
    "\n",
    "The PDF is often used in statistical analysis and modeling, as it allows for the calculation of various statistics, such as mean and variance, and can be used to make predictions about future events.\"\"\""
   ]
  },
  {
   "cell_type": "markdown",
   "id": "f8096aa2",
   "metadata": {},
   "source": [
    "ANS2"
   ]
  },
  {
   "cell_type": "code",
   "execution_count": 20,
   "id": "a9783f23",
   "metadata": {},
   "outputs": [
    {
     "data": {
      "text/plain": [
       "'There are several types of probability distributions, but the most common ones are:\\n\\nDiscrete Probability Distributions: This type of distribution is used when the random variable can only take on a finite or countable number of values. Examples of discrete probability distributions include the binomial distribution, the Poisson distribution, and the hypergeometric distribution.\\n\\nContinuous Probability Distributions: This type of distribution is used when the random variable can take on any value within a certain range. Examples of continuous probability distributions include the normal distribution, the uniform distribution, and the exponential distribution.\\n\\nMultinomial Distribution: This type of distribution is used when there are more than two outcomes, and the outcomes are mutually exclusive. It is an extension of the binomial distribution.\\n\\nBernoulli Distribution: This distribution is used when there are two outcomes, and the outcomes are independent. It is a special case of the binomial distribution.\\n\\nGeometric Distribution: This distribution is used when the random variable represents the number of trials needed to achieve the first success in a sequence of independent trials'"
      ]
     },
     "execution_count": 20,
     "metadata": {},
     "output_type": "execute_result"
    }
   ],
   "source": [
    "\"\"\"There are several types of probability distributions, but the most common ones are:\n",
    "\n",
    "Discrete Probability Distributions: This type of distribution is used when the random variable can only take on a finite or countable number of values. Examples of discrete probability distributions include the binomial distribution, the Poisson distribution, and the hypergeometric distribution.\n",
    "\n",
    "Continuous Probability Distributions: This type of distribution is used when the random variable can take on any value within a certain range. Examples of continuous probability distributions include the normal distribution, the uniform distribution, and the exponential distribution.\n",
    "\n",
    "Multinomial Distribution: This type of distribution is used when there are more than two outcomes, and the outcomes are mutually exclusive. It is an extension of the binomial distribution.\n",
    "\n",
    "Bernoulli Distribution: This distribution is used when there are two outcomes, and the outcomes are independent. It is a special case of the binomial distribution.\n",
    "\n",
    "Geometric Distribution: This distribution is used when the random variable represents the number of trials needed to achieve the first success in a sequence of independent trials\"\"\""
   ]
  },
  {
   "cell_type": "markdown",
   "id": "0e2162f1",
   "metadata": {},
   "source": [
    "ANS3"
   ]
  },
  {
   "cell_type": "code",
   "execution_count": 22,
   "id": "560f2814",
   "metadata": {},
   "outputs": [
    {
     "name": "stdout",
     "output_type": "stream",
     "text": [
      "PDF at x=1: 0.24197072451914337\n"
     ]
    }
   ],
   "source": [
    "import math\n",
    "\n",
    "def normal_pdf(x, mu, sigma):\n",
    "    \"\"\"\n",
    "    Calculates the probability density function of a normal distribution with mean mu and standard deviation sigma\n",
    "    at a given point x.\n",
    "    \"\"\"\n",
    "    coefficient = 1 / (sigma * math.sqrt(2 * math.pi))\n",
    "    exponent = -1/2 * ((x - mu) / sigma) ** 2\n",
    "    pdf = coefficient * math.exp(exponent)\n",
    "    return pdf\n",
    "# Example usage\n",
    "mu = 0\n",
    "sigma = 1\n",
    "x = 1\n",
    "\n",
    "pdf = normal_pdf(x, mu, sigma)\n",
    "print(f\"PDF at x={x}: {pdf}\")\n",
    "\n",
    "\n"
   ]
  },
  {
   "cell_type": "markdown",
   "id": "06fbc4ec",
   "metadata": {},
   "source": [
    "ANS4"
   ]
  },
  {
   "cell_type": "code",
   "execution_count": 23,
   "id": "db56ad48",
   "metadata": {},
   "outputs": [
    {
     "data": {
      "text/plain": [
       "' The binomial distribution is a probability distribution that describes the number of successes in a fixed number of independent trials, where each trial has only two possible outcomes: success or failure. The properties of the binomial distribution include:\\n\\n1.The trials are independent: The outcome of one trial does not affect the outcome of another trial.\\n\\n2.There are a fixed number of trials: The number of trials is predetermined.\\n\\n3.The probability of success is constant: The probability of success is the same for every trial.\\n\\n4.The outcomes are mutually exclusive: Each trial has only two possible outcomes, success or failure.\\n\\n5.The distribution is discrete: The random variable can only take on integer values.\\n\\n6.Two examples of events where the binomial distribution can be applied are:\\n\\nExample -: Flipping a coin: If we flip a fair coin 10 times and want to know the probability of getting exactly 7 heads, we can use the binomial distribution.'"
      ]
     },
     "execution_count": 23,
     "metadata": {},
     "output_type": "execute_result"
    }
   ],
   "source": [
    "\"\"\" The binomial distribution is a probability distribution that describes the number of successes in a fixed number of independent trials, where each trial has only two possible outcomes: success or failure. The properties of the binomial distribution include:\n",
    "\n",
    "1.The trials are independent: The outcome of one trial does not affect the outcome of another trial.\n",
    "\n",
    "2.There are a fixed number of trials: The number of trials is predetermined.\n",
    "\n",
    "3.The probability of success is constant: The probability of success is the same for every trial.\n",
    "\n",
    "4.The outcomes are mutually exclusive: Each trial has only two possible outcomes, success or failure.\n",
    "\n",
    "5.The distribution is discrete: The random variable can only take on integer values.\n",
    "\n",
    "6.Two examples of events where the binomial distribution can be applied are:\n",
    "\n",
    "Example -: Flipping a coin: If we flip a fair coin 10 times and want to know the probability of getting exactly 7 heads, we can use the binomial distribution.\"\"\""
   ]
  },
  {
   "cell_type": "markdown",
   "id": "f33ab12d",
   "metadata": {},
   "source": [
    "ANS5"
   ]
  },
  {
   "cell_type": "code",
   "execution_count": 30,
   "id": "f7df2564",
   "metadata": {
    "scrolled": true
   },
   "outputs": [
    {
     "data": {
      "image/png": "[encoded data removed]",
      "text/plain": [
       "<Figure size 432x288 with 1 Axes>"
      ]
     },
     "metadata": {
      "needs_background": "light"
     },
     "output_type": "display_data"
    }
   ],
   "source": [
    "import numpy as np\n",
    "import matplotlib.pyplot as plt\n",
    "\n",
    "n = 10\n",
    "p = .4\n",
    "\n",
    "sample = np.random.binomial(n, p, 1000)\n",
    "plt.hist(sample,bins = range(n+1),align='left',density = True)\n",
    "plt.xlabel(\"Number of success\")\n",
    "plt.ylabel(\"Frequency\")\n",
    "plt.title(\"Bianomial distribution n = 10,p=0.4\")\n",
    "plt.show()"
   ]
  },
  {
   "cell_type": "markdown",
   "id": "10688b3f",
   "metadata": {},
   "source": [
    "ANS6"
   ]
  },
  {
   "cell_type": "code",
   "execution_count": 39,
   "id": "313f2b9c",
   "metadata": {},
   "outputs": [
    {
     "name": "stdout",
     "output_type": "stream",
     "text": [
      "0.42319008112684364\n"
     ]
    }
   ],
   "source": [
    "from scipy.stats import poisson\n",
    "\n",
    "def poisson_cdf(mean, point):\n",
    "    \"\"\"Calculate the cumulative distribution function of a Poisson distribution with given mean at a given point.\"\"\"\n",
    "    return poisson.cdf(point, mean)\n",
    "\n",
    "print(poisson_cdf(3, 2))  # Example usage: calculates the CDF of Poisson distribution with mean=3 at point=2\n"
   ]
  },
  {
   "cell_type": "markdown",
   "id": "35cd59a3",
   "metadata": {},
   "source": [
    "ANS7"
   ]
  },
  {
   "cell_type": "code",
   "execution_count": 40,
   "id": "b593e4de",
   "metadata": {},
   "outputs": [
    {
     "data": {
      "text/plain": [
       "'The Binomial distribution and Poisson distribution are both probability distributions that describe the likelihood of certain events occurring. However, they differ in several important ways:\\n\\nNumber of trials: The Binomial distribution models the probability of a certain number of successes in a fixed number of independent trials, while the Poisson distribution models the probability of a certain number of occurrences in a fixed interval of time or space.\\n\\nDependence between trials: In the Binomial distribution, the trials are assumed to be independent, meaning the outcome of each trial does not affect the outcome of the other trials. In the Poisson distribution, the events are assumed to occur randomly and independently of each other, but the number of events that occur in a given interval can depend on the number of events that occurred in previous intervals.\\n\\nParameterization: The Binomial distribution is parameterized by the number of trials n and the probability of success p, while the Poisson distribution is parameterized by the rate parameter λ, which is the average number of occurrences per interval.'"
      ]
     },
     "execution_count": 40,
     "metadata": {},
     "output_type": "execute_result"
    }
   ],
   "source": [
    "\"\"\"The Binomial distribution and Poisson distribution are both probability distributions that describe the likelihood of certain events occurring. However, they differ in several important ways:\n",
    "\n",
    "Number of trials: The Binomial distribution models the probability of a certain number of successes in a fixed number of independent trials, while the Poisson distribution models the probability of a certain number of occurrences in a fixed interval of time or space.\n",
    "\n",
    "Dependence between trials: In the Binomial distribution, the trials are assumed to be independent, meaning the outcome of each trial does not affect the outcome of the other trials. In the Poisson distribution, the events are assumed to occur randomly and independently of each other, but the number of events that occur in a given interval can depend on the number of events that occurred in previous intervals.\n",
    "\n",
    "Parameterization: The Binomial distribution is parameterized by the number of trials n and the probability of success p, while the Poisson distribution is parameterized by the rate parameter λ, which is the average number of occurrences per interval.\"\"\""
   ]
  },
  {
   "cell_type": "markdown",
   "id": "eadb1099",
   "metadata": {},
   "source": [
    "ANS8"
   ]
  },
  {
   "cell_type": "code",
   "execution_count": 41,
   "id": "1f5b0516",
   "metadata": {},
   "outputs": [
    {
     "name": "stdout",
     "output_type": "stream",
     "text": [
      "Sample Mean: 4.951\n",
      "Sample Variance: 4.446599\n"
     ]
    }
   ],
   "source": [
    "import numpy as np\n",
    "\n",
    "# Generate the random sample\n",
    "sample = np.random.poisson(5, size=1000)\n",
    "\n",
    "# Calculate the sample mean and variance\n",
    "sample_mean = np.mean(sample)\n",
    "sample_var = np.var(sample)\n",
    "\n",
    "print(\"Sample Mean:\", sample_mean)\n",
    "print(\"Sample Variance:\", sample_var)\n"
   ]
  },
  {
   "cell_type": "markdown",
   "id": "c40b0664",
   "metadata": {},
   "source": [
    "ANS9"
   ]
  },
  {
   "cell_type": "code",
   "execution_count": 43,
   "id": "718cb97c",
   "metadata": {},
   "outputs": [
    {
     "data": {
      "text/plain": [
       "'In the Binomial distribution and Poisson distribution, the mean and variance are related in slightly different ways.\\n\\nIn the Binomial distribution, the mean and variance are both dependent on the number of trials n and the probability of success p.\\nSpecifically, the mean of a Binomial distribution is μ = n*p, and the variance is σ^2 = n*p*(1-p). \\nThis means that the variance is proportional to the mean and to the complement of the mean.\\n\\nIn the Poisson distribution, the mean and variance are both equal to the rate parameter λ. Specifically,\\nthe mean of a Poisson distribution is μ = λ, and the variance is also σ^2 = λ. \\nThis means that the variance is equal to the mean, and the proportionality relationship between the\\ntwo is more straightforward than in the Binomial distribution.'"
      ]
     },
     "execution_count": 43,
     "metadata": {},
     "output_type": "execute_result"
    }
   ],
   "source": [
    "\"\"\"In the Binomial distribution and Poisson distribution, the mean and variance are related in slightly different ways.\n",
    "\n",
    "In the Binomial distribution, the mean and variance are both dependent on the number of trials n and the probability of success p.\n",
    "Specifically, the mean of a Binomial distribution is μ = n*p, and the variance is σ^2 = n*p*(1-p). \n",
    "This means that the variance is proportional to the mean and to the complement of the mean.\n",
    "\n",
    "In the Poisson distribution, the mean and variance are both equal to the rate parameter λ. Specifically,\n",
    "the mean of a Poisson distribution is μ = λ, and the variance is also σ^2 = λ. \n",
    "This means that the variance is equal to the mean, and the proportionality relationship between the\n",
    "two is more straightforward than in the Binomial distribution.\"\"\""
   ]
  },
  {
   "cell_type": "markdown",
   "id": "72dadfae",
   "metadata": {},
   "source": [
    "ANS10"
   ]
  },
  {
   "cell_type": "code",
   "execution_count": 44,
   "id": "f4860d9c",
   "metadata": {},
   "outputs": [
    {
     "data": {
      "text/plain": [
       "\"In a normal distribution, the least frequent data appears at the tails of the distribution, farthest from the mean. The normal distribution is symmetric about its mean, so the least frequent data will be equidistant from the mean on both the left and right tails of the distribution.\\n\\nThe probability density function of a normal distribution decreases rapidly as you move away from the mean, so the values at the tails of the distribution are much less frequent than those near the mean. This is why extreme values (i.e., those that are many standard deviations away from the mean) are relatively rare in a normal distribution.\\n\\nIt's worth noting that the exact position of the least frequent data in a normal distribution depends on the specific mean and standard deviation of the distribution. However, in general, the tails of the distribution will always contain the least frequent data.\\n\\n\\n\\n\""
      ]
     },
     "execution_count": 44,
     "metadata": {},
     "output_type": "execute_result"
    }
   ],
   "source": [
    "\"\"\"In a normal distribution, the least frequent data appears at the tails of the distribution, farthest from the mean. The normal distribution is symmetric about its mean, so the least frequent data will be equidistant from the mean on both the left and right tails of the distribution.\n",
    "\n",
    "The probability density function of a normal distribution decreases rapidly as you move away from the mean, so the values at the tails of the distribution are much less frequent than those near the mean. This is why extreme values (i.e., those that are many standard deviations away from the mean) are relatively rare in a normal distribution.\n",
    "\n",
    "It's worth noting that the exact position of the least frequent data in a normal distribution depends on the specific mean and standard deviation of the distribution. However, in general, the tails of the distribution will always contain the least frequent data.\n",
    "\n",
    "\n",
    "\n",
    "\"\"\""
   ]
  },
  {
   "cell_type": "code",
   "execution_count": null,
   "id": "7b95031e",
   "metadata": {},
   "outputs": [],
   "source": []
  }
 ],
 "metadata": {
  "kernelspec": {
   "display_name": "Python 3 (ipykernel)",
   "language": "python",
   "name": "python3"
  },
  "language_info": {
   "codemirror_mode": {
    "name": "ipython",
    "version": 3
   },
   "file_extension": ".py",
   "mimetype": "text/x-python",
   "name": "python",
   "nbconvert_exporter": "python",
   "pygments_lexer": "ipython3",
   "version": "3.9.7"
  }
 },
 "nbformat": 4,
 "nbformat_minor": 5
}
