{
 "cells": [
  {
   "cell_type": "markdown",
   "id": "674dafd0-197d-4425-a36c-1e8282946ece",
   "metadata": {},
   "source": [
    "ANS1"
   ]
  },
  {
   "cell_type": "code",
   "execution_count": 1,
   "id": "5742a667-0d48-4da2-8820-bd0d9bcbf5af",
   "metadata": {},
   "outputs": [
    {
     "name": "stdout",
     "output_type": "stream",
     "text": [
      "0     4\n",
      "1     8\n",
      "2    15\n",
      "3    16\n",
      "4    23\n",
      "5    42\n",
      "dtype: int64\n"
     ]
    }
   ],
   "source": [
    "import pandas as pd\n",
    "\n",
    "data = [4, 8, 15, 16, 23, 42]\n",
    "series = pd.Series(data)\n",
    "\n",
    "print(series)\n"
   ]
  },
  {
   "cell_type": "markdown",
   "id": "f384b30f-b656-4db7-8d2a-abd8730e9138",
   "metadata": {},
   "source": [
    "ANS2"
   ]
  },
  {
   "cell_type": "code",
   "execution_count": 7,
   "id": "a3213b7f-dd50-44ef-b57c-d7056a1d51de",
   "metadata": {},
   "outputs": [
    {
     "name": "stdout",
     "output_type": "stream",
     "text": [
      "0     1\n",
      "1     2\n",
      "2     3\n",
      "3     4\n",
      "4     5\n",
      "5     6\n",
      "6     7\n",
      "7     8\n",
      "8     9\n",
      "9    10\n",
      "dtype: int64\n"
     ]
    },
    {
     "data": {
      "text/plain": [
       "pandas.core.series.Series"
      ]
     },
     "execution_count": 7,
     "metadata": {},
     "output_type": "execute_result"
    }
   ],
   "source": [
    "import pandas as pd\n",
    "\n",
    "list1 = [1,2,3,4,5,6,7,8,9,10]\n",
    "\n",
    "series  = pd.Series(list1)\n",
    "print(series)\n",
    "type(series)"
   ]
  },
  {
   "cell_type": "markdown",
   "id": "e4b04b90-0a28-4008-81d3-16997a2731ab",
   "metadata": {},
   "source": [
    "ANS3"
   ]
  },
  {
   "cell_type": "code",
   "execution_count": 5,
   "id": "552dba3a-2999-4327-bc6f-266c7a74b3d5",
   "metadata": {},
   "outputs": [
    {
     "name": "stdout",
     "output_type": "stream",
     "text": [
      "     Name  age            gender\n",
      "0   Alice   23              male\n",
      "1     Bob   43            female\n",
      "2  Claire   12  not preferto say\n"
     ]
    }
   ],
   "source": [
    "data = {\"Name\":\n",
    "        [\"Alice\", \"Bob\", \"Claire\"],\n",
    "        \"age\":[23,43,12],\n",
    "        \"gender\":[\"male\",\"female\",\"not preferto say\"]\n",
    "}\n",
    "\n",
    "data1 = pd.DataFrame(data)\n",
    "print(data1)"
   ]
  },
  {
   "cell_type": "code",
   "execution_count": 6,
   "id": "4ba25520-5248-43bc-a270-bf9d0abcba85",
   "metadata": {},
   "outputs": [
    {
     "data": {
      "text/plain": [
       "pandas.core.frame.DataFrame"
      ]
     },
     "execution_count": 6,
     "metadata": {},
     "output_type": "execute_result"
    }
   ],
   "source": [
    "type(data1)"
   ]
  },
  {
   "cell_type": "markdown",
   "id": "a9a0af92-9d5e-48e0-a6a1-01bfa9ae2dc8",
   "metadata": {},
   "source": [
    "ANS4"
   ]
  },
  {
   "cell_type": "code",
   "execution_count": 8,
   "id": "48f9209e-da22-4bfb-8595-05bcf7e10538",
   "metadata": {},
   "outputs": [
    {
     "data": {
      "text/plain": [
       "'Pandas Dataframe:-In Pandas, a DataFrame is a two-dimensional labeled data structure with columns of potentially different data types.\\nIt is similar to a table in a relational database or a spreadsheet in Excel. Each column in a DataFrame is a Pandas Series object.\\n\\nPandas Series :- Pandas Series, on the other hand, is a one-dimensional labeled array that can hold any data type. \\nIt is similar to a single column in a DataFrame.'"
      ]
     },
     "execution_count": 8,
     "metadata": {},
     "output_type": "execute_result"
    }
   ],
   "source": [
    "\"\"\"Pandas Dataframe:-In Pandas, a DataFrame is a two-dimensional labeled data structure with columns of potentially different data types.\n",
    "It is similar to a table in a relational database or a spreadsheet in Excel. Each column in a DataFrame is a Pandas Series object.\n",
    "\n",
    "Pandas Series :- Pandas Series, on the other hand, is a one-dimensional labeled array that can hold any data type. \n",
    "It is similar to a single column in a DataFrame.\"\"\"\n",
    "\n",
    "\n"
   ]
  },
  {
   "cell_type": "code",
   "execution_count": 13,
   "id": "d1f41bed-81b9-435b-9051-4b2e617c5347",
   "metadata": {},
   "outputs": [
    {
     "name": "stdout",
     "output_type": "stream",
     "text": [
      "0    2\n",
      "1    3\n",
      "2    4\n",
      "3    5\n",
      "4    6\n",
      "5    7\n",
      "dtype: int64\n"
     ]
    },
    {
     "data": {
      "text/plain": [
       "pandas.core.frame.DataFrame"
      ]
     },
     "execution_count": 13,
     "metadata": {},
     "output_type": "execute_result"
    }
   ],
   "source": [
    "import pandas as pd\n",
    "\n",
    "list1  = [2,3,4,5,6,7]\n",
    "seris = pd.Series(list1)\n",
    "print(seris)\n",
    "type(seris)\n",
    "\n",
    "data = {\"name\":[\"Deepak\",\"govind\",\"krish\"],\n",
    "        \"phone\":[2354789635,2544789658,3256895968],\n",
    "        \"add\":[12,34,56]}\n",
    "dataframe = pd.DataFrame(data)\n",
    "type(dataframe)"
   ]
  },
  {
   "cell_type": "markdown",
   "id": "3e2aefd3-8f20-4fa8-ab93-115addba9edf",
   "metadata": {},
   "source": [
    "ANS5"
   ]
  },
  {
   "cell_type": "code",
   "execution_count": 16,
   "id": "b98b6d4f-af6c-4865-be05-5a54e0104000",
   "metadata": {},
   "outputs": [
    {
     "data": {
      "text/html": [
       "<div>\n",
       "<style scoped>\n",
       "    .dataframe tbody tr th:only-of-type {\n",
       "        vertical-align: middle;\n",
       "    }\n",
       "\n",
       "    .dataframe tbody tr th {\n",
       "        vertical-align: top;\n",
       "    }\n",
       "\n",
       "    .dataframe thead th {\n",
       "        text-align: right;\n",
       "    }\n",
       "</style>\n",
       "<table border=\"1\" class=\"dataframe\">\n",
       "  <thead>\n",
       "    <tr style=\"text-align: right;\">\n",
       "      <th></th>\n",
       "      <th>name</th>\n",
       "      <th>phone</th>\n",
       "      <th>add</th>\n",
       "    </tr>\n",
       "  </thead>\n",
       "  <tbody>\n",
       "    <tr>\n",
       "      <th>1</th>\n",
       "      <td>govind</td>\n",
       "      <td>2544789658</td>\n",
       "      <td>34</td>\n",
       "    </tr>\n",
       "    <tr>\n",
       "      <th>2</th>\n",
       "      <td>krish</td>\n",
       "      <td>3256895968</td>\n",
       "      <td>56</td>\n",
       "    </tr>\n",
       "  </tbody>\n",
       "</table>\n",
       "</div>"
      ],
      "text/plain": [
       "     name       phone  add\n",
       "1  govind  2544789658   34\n",
       "2   krish  3256895968   56"
      ]
     },
     "execution_count": 16,
     "metadata": {},
     "output_type": "execute_result"
    }
   ],
   "source": [
    "\"\"\" 1. head():this function is used to return  generally the n numbers of values from above the tables\n",
    "2. tail(): this function is used to  return generally the n number of values fron the below of the table\n",
    "3.info(): This function can be used to get a summary of the DataFrame's columns, including their data types, non-null values, and memory usage.\n",
    "\n",
    "d4.escribe(): This function provides a statistical summary of the DataFrame's numerical columns, including count, mean, standard deviation, minimum, maximum, and quartile values.\n",
    "\n",
    "5.sort_values(): This function can be used to sort the DataFrame by one or more columns.\"\"\"\n",
    "\n",
    "data = {\"name\":[\"Deepak\",\"govind\",\"krish\"],\n",
    "        \"phone\":[2354789635,2544789658,3256895968],\n",
    "        \"add\":[12,34,56]}\n",
    "dataframe = pd.DataFrame(data)\n",
    "type(dataframe)\n",
    "dataframe.head(2)\n",
    "dataframe.tail(2)\n",
    "\n"
   ]
  },
  {
   "cell_type": "markdown",
   "id": "e2cfa3bb-b56c-497c-bfee-259fc26e430f",
   "metadata": {},
   "source": [
    "ANS6"
   ]
  },
  {
   "cell_type": "code",
   "execution_count": 17,
   "id": "314a22e0-a073-443c-8aa8-178877c4a8fb",
   "metadata": {},
   "outputs": [
    {
     "data": {
      "text/plain": [
       "'In Pandas, both Series and DataFrame are mutable in nature, which means that their values can be changed after they are created.\\n\\nA Pandas Series is a one-dimensional labeled array that can hold any data type. It is mutable because you can change the values \\nof its elements using indexing or slicing operations.\\n\\nA Pandas DataFrame is a two-dimensional labeled data structure with columns of potentially different data types. It is mutable because you can add or remove columns, \\nas well as change the values of its elements using indexing or slicing operations.\\n\\nHowever, Pandas Panel is an advanced data structure that is not widely used in practice. \\nIt is a three-dimensional labeled array that can hold any data type. Panels are less commonly used in Pandas,\\nand are considered less efficient and less flexible than DataFrames. Panels are also mutable in nature, but due to their limited use,\\nthey are not as important to know as Series and DataFrame.'"
      ]
     },
     "execution_count": 17,
     "metadata": {},
     "output_type": "execute_result"
    }
   ],
   "source": [
    "\"\"\"In Pandas, both Series and DataFrame are mutable in nature, which means that their values can be changed after they are created.\n",
    "\n",
    "A Pandas Series is a one-dimensional labeled array that can hold any data type. It is mutable because you can change the values \n",
    "of its elements using indexing or slicing operations.\n",
    "\n",
    "A Pandas DataFrame is a two-dimensional labeled data structure with columns of potentially different data types. It is mutable because you can add or remove columns, \n",
    "as well as change the values of its elements using indexing or slicing operations.\n",
    "\n",
    "However, Pandas Panel is an advanced data structure that is not widely used in practice. \n",
    "It is a three-dimensional labeled array that can hold any data type. Panels are less commonly used in Pandas,\n",
    "and are considered less efficient and less flexible than DataFrames. Panels are also mutable in nature, but due to their limited use,\n",
    "they are not as important to know as Series and DataFrame.\"\"\""
   ]
  },
  {
   "cell_type": "markdown",
   "id": "f21d0bfc-1276-4b53-b104-26097d85c466",
   "metadata": {},
   "source": [
    "ANS7"
   ]
  },
  {
   "cell_type": "code",
   "execution_count": 18,
   "id": "4919d67c-5cf3-4ae4-8282-7ac8cd5695f4",
   "metadata": {},
   "outputs": [
    {
     "name": "stdout",
     "output_type": "stream",
     "text": [
      "      Name  Age Gender\n",
      "0    Alice   25      F\n",
      "1      Bob   30      M\n",
      "2  Charlie   35      M\n"
     ]
    }
   ],
   "source": [
    "import pandas as pd\n",
    "\n",
    "# Create three Series\n",
    "name = pd.Series(['Alice', 'Bob', 'Charlie'])\n",
    "age = pd.Series([25, 30, 35])\n",
    "gender = pd.Series(['F', 'M', 'M'])\n",
    "\n",
    "# Create a DataFrame from the Series\n",
    "df = pd.DataFrame({'Name': name, 'Age': age, 'Gender': gender})\n",
    "\n",
    "# Print the DataFrame\n",
    "print(df)"
   ]
  },
  {
   "cell_type": "code",
   "execution_count": null,
   "id": "4cd40f39-7f89-4316-b652-f0cf9e042774",
   "metadata": {},
   "outputs": [],
   "source": []
  }
 ],
 "metadata": {
  "kernelspec": {
   "display_name": "Python 3 (ipykernel)",
   "language": "python",
   "name": "python3"
  },
  "language_info": {
   "codemirror_mode": {
    "name": "ipython",
    "version": 3
   },
   "file_extension": ".py",
   "mimetype": "text/x-python",
   "name": "python",
   "nbconvert_exporter": "python",
   "pygments_lexer": "ipython3",
   "version": "3.10.8"
  }
 },
 "nbformat": 4,
 "nbformat_minor": 5
}
