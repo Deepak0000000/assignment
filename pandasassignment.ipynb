{
 "cells": [
  {
   "cell_type": "markdown",
   "id": "bae9c31f",
   "metadata": {},
   "source": [
    "ANS1"
   ]
  },
  {
   "cell_type": "code",
   "execution_count": 4,
   "id": "2300fa95",
   "metadata": {},
   "outputs": [],
   "source": [
    "import pandas as pd\n",
    "course_name = ['Data Science', 'Machine Learning', 'Big Data', 'Data Engineer']\n",
    "duration = [2,3,6,4]\n",
    "df = pd.DataFrame(data = {'course_name' : course_name, 'duration' : duration})\n"
   ]
  },
  {
   "cell_type": "code",
   "execution_count": 12,
   "id": "506e5993",
   "metadata": {},
   "outputs": [
    {
     "data": {
      "text/plain": [
       "0    2\n",
       "1    3\n",
       "2    6\n",
       "3    4\n",
       "Name: duration, dtype: int64"
      ]
     },
     "execution_count": 12,
     "metadata": {},
     "output_type": "execute_result"
    }
   ],
   "source": [
    "df['duration']"
   ]
  },
  {
   "cell_type": "markdown",
   "id": "820f2004",
   "metadata": {},
   "source": [
    "ANS2"
   ]
  },
  {
   "cell_type": "code",
   "execution_count": 14,
   "id": "94386dbd",
   "metadata": {},
   "outputs": [
    {
     "data": {
      "text/plain": [
       "'Difference between loc and iloc\\n1.  loc():- loc function is used to find the the data in any dataframe on the basis of column name which is present inside the dataframe\\n\\n2. iloc():-iloc method is used to find the value of any Dataframe on the basis of index which is present in to any datframe \\n\\n'"
      ]
     },
     "execution_count": 14,
     "metadata": {},
     "output_type": "execute_result"
    }
   ],
   "source": [
    "\"\"\"Difference between loc and iloc\n",
    "1.  loc():- loc function is used to find the the data in any dataframe on the basis of column name which is present inside the dataframe\n",
    "\n",
    "2. iloc():-iloc method is used to find the value of any Dataframe on the basis of index which is present in to any datframe \n",
    "\n",
    "\"\"\""
   ]
  },
  {
   "cell_type": "markdown",
   "id": "6379fcf0",
   "metadata": {},
   "source": [
    "ANS3"
   ]
  },
  {
   "cell_type": "code",
   "execution_count": 19,
   "id": "fb3014d4",
   "metadata": {},
   "outputs": [
    {
     "name": "stdout",
     "output_type": "stream",
     "text": [
      "column_1    0.721813\n",
      "column_2    0.533964\n",
      "column_3    0.361109\n",
      "column_4    0.948773\n",
      "column_5    0.395228\n",
      "column_6    0.002254\n",
      "Name: 2, dtype: float64\n",
      "column_1    0.662629\n",
      "column_2    0.446218\n",
      "column_3    0.839376\n",
      "column_4    0.211707\n",
      "column_5    0.714237\n",
      "column_6    0.189669\n",
      "Name: 1, dtype: float64\n"
     ]
    }
   ],
   "source": [
    "import pandas as pd\n",
    "import numpy as np\n",
    "\n",
    "\n",
    "columns = ['column_1', 'column_2', 'column_3', 'column_4', 'column_5', 'column_6']\n",
    "indices = [1,2,3,4,5,6]\n",
    "df1 = pd.DataFrame(np.random.rand(6,6), columns = columns, index = indices)\n",
    "\n",
    "reindex = [3,0,1,2]\n",
    "new_df = df1.reindex(reindex)\n",
    "\n",
    "\n",
    "print(new_df.loc[2])   \n",
    "print(new_df.iloc[2])  \n"
   ]
  },
  {
   "cell_type": "markdown",
   "id": "fa35ffd4",
   "metadata": {},
   "source": [
    "ANS4"
   ]
  },
  {
   "cell_type": "code",
   "execution_count": 26,
   "id": "a63396cb",
   "metadata": {},
   "outputs": [],
   "source": [
    "import pandas as pd\n",
    "import numpy as np\n",
    "\n",
    "\n",
    "columns = ['column_1', 'column_2', 'column_3', 'column_4', 'column_5', 'column_6']\n",
    "indices = [1,2,3,4,5,6]\n",
    "df1 = pd.DataFrame(np.random.rand(6,6), columns = columns, index = indices)"
   ]
  },
  {
   "cell_type": "code",
   "execution_count": 27,
   "id": "013924fe",
   "metadata": {},
   "outputs": [
    {
     "data": {
      "text/html": [
       "<div>\n",
       "<style scoped>\n",
       "    .dataframe tbody tr th:only-of-type {\n",
       "        vertical-align: middle;\n",
       "    }\n",
       "\n",
       "    .dataframe tbody tr th {\n",
       "        vertical-align: top;\n",
       "    }\n",
       "\n",
       "    .dataframe thead th {\n",
       "        text-align: right;\n",
       "    }\n",
       "</style>\n",
       "<table border=\"1\" class=\"dataframe\">\n",
       "  <thead>\n",
       "    <tr style=\"text-align: right;\">\n",
       "      <th></th>\n",
       "      <th>column_1</th>\n",
       "      <th>column_2</th>\n",
       "      <th>column_3</th>\n",
       "      <th>column_4</th>\n",
       "      <th>column_5</th>\n",
       "      <th>column_6</th>\n",
       "    </tr>\n",
       "  </thead>\n",
       "  <tbody>\n",
       "    <tr>\n",
       "      <th>1</th>\n",
       "      <td>0.424059</td>\n",
       "      <td>0.179380</td>\n",
       "      <td>0.976979</td>\n",
       "      <td>0.515495</td>\n",
       "      <td>0.885785</td>\n",
       "      <td>0.989151</td>\n",
       "    </tr>\n",
       "    <tr>\n",
       "      <th>2</th>\n",
       "      <td>0.481289</td>\n",
       "      <td>0.218434</td>\n",
       "      <td>0.387582</td>\n",
       "      <td>0.072335</td>\n",
       "      <td>0.643976</td>\n",
       "      <td>0.779592</td>\n",
       "    </tr>\n",
       "    <tr>\n",
       "      <th>3</th>\n",
       "      <td>0.250812</td>\n",
       "      <td>0.117422</td>\n",
       "      <td>0.058025</td>\n",
       "      <td>0.181057</td>\n",
       "      <td>0.929357</td>\n",
       "      <td>0.035473</td>\n",
       "    </tr>\n",
       "    <tr>\n",
       "      <th>4</th>\n",
       "      <td>0.990467</td>\n",
       "      <td>0.264534</td>\n",
       "      <td>0.025506</td>\n",
       "      <td>0.664417</td>\n",
       "      <td>0.665828</td>\n",
       "      <td>0.626215</td>\n",
       "    </tr>\n",
       "    <tr>\n",
       "      <th>5</th>\n",
       "      <td>0.057895</td>\n",
       "      <td>0.925137</td>\n",
       "      <td>0.610499</td>\n",
       "      <td>0.700795</td>\n",
       "      <td>0.643917</td>\n",
       "      <td>0.100012</td>\n",
       "    </tr>\n",
       "    <tr>\n",
       "      <th>6</th>\n",
       "      <td>0.745174</td>\n",
       "      <td>0.055634</td>\n",
       "      <td>0.069141</td>\n",
       "      <td>0.625604</td>\n",
       "      <td>0.758062</td>\n",
       "      <td>0.779600</td>\n",
       "    </tr>\n",
       "  </tbody>\n",
       "</table>\n",
       "</div>"
      ],
      "text/plain": [
       "   column_1  column_2  column_3  column_4  column_5  column_6\n",
       "1  0.424059  0.179380  0.976979  0.515495  0.885785  0.989151\n",
       "2  0.481289  0.218434  0.387582  0.072335  0.643976  0.779592\n",
       "3  0.250812  0.117422  0.058025  0.181057  0.929357  0.035473\n",
       "4  0.990467  0.264534  0.025506  0.664417  0.665828  0.626215\n",
       "5  0.057895  0.925137  0.610499  0.700795  0.643917  0.100012\n",
       "6  0.745174  0.055634  0.069141  0.625604  0.758062  0.779600"
      ]
     },
     "execution_count": 27,
     "metadata": {},
     "output_type": "execute_result"
    }
   ],
   "source": [
    "df1"
   ]
  },
  {
   "cell_type": "code",
   "execution_count": 28,
   "id": "c95237b5",
   "metadata": {},
   "outputs": [
    {
     "data": {
      "text/plain": [
       "Index(['column_1', 'column_2', 'column_3', 'column_4', 'column_5', 'column_6'], dtype='object')"
      ]
     },
     "execution_count": 28,
     "metadata": {},
     "output_type": "execute_result"
    }
   ],
   "source": [
    "df1.columns"
   ]
  },
  {
   "cell_type": "code",
   "execution_count": 30,
   "id": "e3dd415c",
   "metadata": {},
   "outputs": [
    {
     "data": {
      "text/plain": [
       "column_1    0.491616\n",
       "column_2    0.293424\n",
       "column_3    0.354622\n",
       "column_4    0.459951\n",
       "column_5    0.754487\n",
       "column_6    0.551674\n",
       "dtype: float64"
      ]
     },
     "execution_count": 30,
     "metadata": {},
     "output_type": "execute_result"
    }
   ],
   "source": [
    "df1[['column_1', 'column_2', 'column_3', 'column_4', 'column_5', 'column_6']].mean()"
   ]
  },
  {
   "cell_type": "code",
   "execution_count": 31,
   "id": "221a81e4",
   "metadata": {},
   "outputs": [
    {
     "data": {
      "text/plain": [
       "0.31813398565725076"
      ]
     },
     "execution_count": 31,
     "metadata": {},
     "output_type": "execute_result"
    }
   ],
   "source": [
    "df1['column_2'].std()"
   ]
  },
  {
   "cell_type": "markdown",
   "id": "ceb2e974",
   "metadata": {},
   "source": [
    "ANS5"
   ]
  },
  {
   "cell_type": "code",
   "execution_count": 3,
   "id": "1e74b425",
   "metadata": {},
   "outputs": [
    {
     "data": {
      "text/plain": [
       "\"import pandas as pd\\nimport numpy as np\\n\\n\\ncolumns = ['column_1', 'column_2', 'column_3', 'column_4', 'column_5', 'column_6']\\nindices = [1,2,3,4,5,6]\\ndf1 = pd.DataFrame(np.random.rand(6,6), columns = columns, index = indices)\\n\\n# replace the data in the second row of column_2\\ndf1.loc[2, 'column_2'] = 'string'\\n\\n# find the mean of column_2\\nmean_col2 = df1['column_2'].mean()\\nprint(mean_col2)\""
      ]
     },
     "execution_count": 3,
     "metadata": {},
     "output_type": "execute_result"
    }
   ],
   "source": [
    "\"\"\"import pandas as pd\n",
    "import numpy as np\n",
    "\n",
    "\n",
    "columns = ['column_1', 'column_2', 'column_3', 'column_4', 'column_5', 'column_6']\n",
    "indices = [1,2,3,4,5,6]\n",
    "df1 = pd.DataFrame(np.random.rand(6,6), columns = columns, index = indices)\n",
    "\n",
    "# replace the data in the second row of column_2\n",
    "df1.loc[2, 'column_2'] = 'string'\n",
    "\n",
    "# find the mean of column_2\n",
    "mean_col2 = df1['column_2'].mean()\n",
    "print(mean_col2)\"\"\"\n"
   ]
  },
  {
   "cell_type": "markdown",
   "id": "a8f64cde",
   "metadata": {},
   "source": [
    "ANS6"
   ]
  },
  {
   "cell_type": "code",
   "execution_count": 4,
   "id": "640fa1b6",
   "metadata": {},
   "outputs": [
    {
     "data": {
      "text/plain": [
       "\"  In pandas, a window function (also known as a rolling or moving function) is a \\nfunction that is applied to a sliding window of data over a specified time period or number of rows. \\nThe window function is applied to the data in each window, producing a new output value for each window.\\nWindow functions are useful for calculating rolling statistics, smoothing data, and identifying trends and\\npatterns in time series data.\\n\\ndf4 = pd.DataFrame({'a':[1,2,3,4,5,6,7,8,9]})\\n\\ndf4.rolling(window=1).mean()\\n\\ndf4.rolling(window=2).mean()\\n\\ndf4.rolling(window=3).mean()\\n\\ndf4.rolling(window=3).sum()\\n\\ndf4.rolling(window=3).min()\\n\\n\\n\""
      ]
     },
     "execution_count": 4,
     "metadata": {},
     "output_type": "execute_result"
    }
   ],
   "source": [
    "\"\"\"  In pandas, a window function (also known as a rolling or moving function) is a \n",
    "function that is applied to a sliding window of data over a specified time period or number of rows. \n",
    "The window function is applied to the data in each window, producing a new output value for each window.\n",
    "Window functions are useful for calculating rolling statistics, smoothing data, and identifying trends and\n",
    "patterns in time series data.\n",
    "\n",
    "df4 = pd.DataFrame({'a':[1,2,3,4,5,6,7,8,9]})\n",
    "\n",
    "df4.rolling(window=1).mean()\n",
    "\n",
    "df4.rolling(window=2).mean()\n",
    "\n",
    "df4.rolling(window=3).mean()\n",
    "\n",
    "df4.rolling(window=3).sum()\n",
    "\n",
    "df4.rolling(window=3).min()\n",
    "\n",
    "\n",
    "\"\"\""
   ]
  },
  {
   "cell_type": "markdown",
   "id": "c0254bf0",
   "metadata": {},
   "source": [
    "ANS7"
   ]
  },
  {
   "cell_type": "code",
   "execution_count": 10,
   "id": "87feb2ff",
   "metadata": {},
   "outputs": [
    {
     "name": "stdout",
     "output_type": "stream",
     "text": [
      "current month and year:3/2023\n"
     ]
    }
   ],
   "source": [
    "\n",
    "from datetime import datetime\n",
    "\n",
    "now = datetime.now()\n",
    "curr_month = now.month\n",
    "curr_year = now.year\n",
    "\n",
    "print(f\"current month and year:{curr_month}/{curr_year}\")"
   ]
  },
  {
   "cell_type": "markdown",
   "id": "8503525f",
   "metadata": {},
   "source": [
    "ANS8"
   ]
  },
  {
   "cell_type": "code",
   "execution_count": 11,
   "id": "ec2b06e8",
   "metadata": {},
   "outputs": [
    {
     "name": "stdout",
     "output_type": "stream",
     "text": [
      "Enter the first date (YYYY-MM-DD): 2022-11-02\n",
      "Enter the second date (YYYY-MM-DD): 2023-7-24\n",
      "The difference between 2022-11-02 and 2023-7-24 is 264 days, 0 hours, and 0 minutes.\n"
     ]
    }
   ],
   "source": [
    "import pandas as pd\n",
    "\n",
    "\n",
    "date1_str = input(\"Enter the first date (YYYY-MM-DD): \")\n",
    "date2_str = input(\"Enter the second date (YYYY-MM-DD): \")\n",
    "\n",
    "\n",
    "date1 = pd.to_datetime(date1_str)\n",
    "date2 = pd.to_datetime(date2_str)\n",
    "\n",
    "\n",
    "delta = date2 - date1\n",
    "\n",
    "\n",
    "days = delta.days\n",
    "hours = delta.seconds // 3600\n",
    "minutes = (delta.seconds // 60) % 60\n",
    "\n",
    "\n",
    "print(f\"The difference between {date1_str} and {date2_str} is {days} days, {hours} hours, and {minutes} minutes.\")\n"
   ]
  },
  {
   "cell_type": "markdown",
   "id": "e424bcff",
   "metadata": {},
   "source": [
    "ANS9"
   ]
  },
  {
   "cell_type": "code",
   "execution_count": null,
   "id": "e96bbe20",
   "metadata": {},
   "outputs": [],
   "source": [
    "import pandas as pd\n",
    "import matplotlib.pyplot as plt\n",
    "\n",
    "\n",
    "file_path = input(\"Enter the file path for the sales data CSV file: \")\n",
    "\n",
    "\n",
    "df = pd.read_csv(file_path)\n",
    "\n",
    "\n",
    "df['date'] = pd.to_datetime(df['date'])\n",
    "\n",
    "\n",
    "grouped = df.groupby(['category', 'date']).sum()\n",
    "\n",
    "\n",
    "pivoted = grouped.pivot_table(values='sales', index='date', columns='category', fill_value=0)\n",
    "\n",
    "\n",
    "pivoted.plot(kind='bar', stacked=True)\n",
    "\n",
    "\n",
    "plt.xlabel('Date')\n",
    "plt.ylabel('Sales')\n",
    "plt.title('Sales by Product Category over Time')\n",
    "\n",
    "\n",
    "plt.show()\n"
   ]
  },
  {
   "cell_type": "markdown",
   "id": "30361a8e",
   "metadata": {},
   "source": [
    "ANS10"
   ]
  },
  {
   "cell_type": "code",
   "execution_count": null,
   "id": "f1d2e5f9",
   "metadata": {},
   "outputs": [],
   "source": [
    "import pandas as pd\n",
    "\n",
    "# prompt the user to enter the file path\n",
    "file_path = input(\"Enter the file path for the student data CSV file: \")\n",
    "\n",
    "# read the CSV file into a pandas DataFrame\n",
    "df = pd.read_csv(file_path)\n",
    "\n",
    "# calculate the mean, median, and mode of the test scores\n",
    "mean_score = df['score'].mean()\n",
    "median_score = df['score'].median()\n",
    "mode_score = df['score'].mode()[0]\n",
    "\n",
    "# create a table of the results\n",
    "results = pd.DataFrame({'Mean Score': [mean_score], 'Median Score': [median_score], 'Mode Score': [mode_score]})\n",
    "\n",
    "# display the table\n",
    "print(results)\n"
   ]
  },
  {
   "cell_type": "code",
   "execution_count": null,
   "id": "3e9b318c",
   "metadata": {},
   "outputs": [],
   "source": []
  },
  {
   "cell_type": "code",
   "execution_count": null,
   "id": "366a2b99",
   "metadata": {},
   "outputs": [],
   "source": []
  }
 ],
 "metadata": {
  "kernelspec": {
   "display_name": "Python 3 (ipykernel)",
   "language": "python",
   "name": "python3"
  },
  "language_info": {
   "codemirror_mode": {
    "name": "ipython",
    "version": 3
   },
   "file_extension": ".py",
   "mimetype": "text/x-python",
   "name": "python",
   "nbconvert_exporter": "python",
   "pygments_lexer": "ipython3",
   "version": "3.9.7"
  }
 },
 "nbformat": 4,
 "nbformat_minor": 5
}
